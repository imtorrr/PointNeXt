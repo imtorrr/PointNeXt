{
 "cells": [
  {
   "cell_type": "code",
   "execution_count": 6,
   "id": "e92e0dd6",
   "metadata": {},
   "outputs": [],
   "source": [
    "import sys\n",
    "\n",
    "sys.path.append(\"..\")\n",
    "\n",
    "import warnings\n",
    "\n",
    "warnings.simplefilter(action=\"ignore\", category=FutureWarning)\n",
    "\n",
    "from openpoints.utils import EasyConfig, set_random_seed, dist_utils\n",
    "from openpoints.transforms import build_transforms_from_cfg\n",
    "from openpoints.optim import build_optimizer_from_cfg\n",
    "from openpoints.scheduler import build_scheduler_from_cfg\n",
    "from openpoints.loss import build_criterion_from_cfg\n",
    "from openpoints.models import build_model_from_cfg\n",
    "from openpoints.dataset import build_dataset_from_cfg\n",
    "\n",
    "import torch\n",
    "from torch_geometric.data import Data, Batch\n",
    "import os\n",
    "import glob"
   ]
  },
  {
   "cell_type": "code",
   "execution_count": 7,
   "id": "cf26d285",
   "metadata": {},
   "outputs": [],
   "source": [
    "from torch_scatter import scatter\n",
    "from openpoints.utils import (\n",
    "    set_random_seed,\n",
    "    save_checkpoint,\n",
    "    load_checkpoint,\n",
    "    resume_checkpoint,\n",
    "    setup_logger_dist,\n",
    "    cal_model_parm_nums,\n",
    "    Wandb,\n",
    "    generate_exp_directory,\n",
    "    resume_exp_directory,\n",
    "    EasyConfig,\n",
    "    dist_utils,\n",
    "    find_free_port,\n",
    "    load_checkpoint_inv,\n",
    ")\n",
    "from openpoints.utils import AverageMeter, ConfusionMatrix, get_mious\n",
    "from openpoints.dataset import build_dataloader_from_cfg, get_features_by_keys, get_class_weights\n",
    "from openpoints.dataset.data_util import voxelize\n",
    "from openpoints.dataset.semantic_kitti.semantickitti import (\n",
    "    load_label_kitti,\n",
    "    load_pc_kitti,\n",
    "    remap_lut_read,\n",
    "    remap_lut_write,\n",
    "    get_semantickitti_file_list,\n",
    ")\n",
    "from openpoints.transforms import build_transforms_from_cfg\n",
    "from openpoints.optim import build_optimizer_from_cfg\n",
    "from openpoints.scheduler import build_scheduler_from_cfg\n",
    "from openpoints.loss import build_criterion_from_cfg\n",
    "from openpoints.models import build_model_from_cfg"
   ]
  },
  {
   "cell_type": "code",
   "execution_count": 8,
   "id": "82816dcb",
   "metadata": {},
   "outputs": [],
   "source": [
    "cfg = EasyConfig()\n",
    "cfg.load(\"../cfgs/nibio_mls/pointnext-xl.yaml\", recursive=True)\n",
    "cfg.dataset.common.data_root = os.path.join(\"../\", cfg.dataset.common.data_root)"
   ]
  },
  {
   "cell_type": "code",
   "execution_count": 9,
   "id": "5f5773b6",
   "metadata": {},
   "outputs": [
    {
     "name": "stdout",
     "output_type": "stream",
     "text": [
      "../data/NIBIO_MLS/processed/nibio_mls_train_0.040_6m.pkl load successfully\n"
     ]
    }
   ],
   "source": [
    "dataset = build_dataset_from_cfg(cfg.dataset.common, cfg.dataset.train)"
   ]
  },
  {
   "cell_type": "code",
   "execution_count": 10,
   "id": "58cfa6b9",
   "metadata": {},
   "outputs": [
    {
     "data": {
      "text/plain": [
       "{'pos': array([[2.9629974, 1.421    , 4.719    ],\n",
       "        [2.959999 , 1.3860002, 4.792    ],\n",
       "        [2.9629974, 1.3400002, 4.672    ],\n",
       "        ...,\n",
       "        [1.2990036, 1.4440002, 3.8199997],\n",
       "        [1.2850037, 1.3910003, 4.5439997],\n",
       "        [1.3040009, 1.4580002, 3.725    ]], shape=(3139, 3), dtype=float32),\n",
       " 'y': array([2, 2, 2, ..., 2, 2, 2], shape=(3139,)),\n",
       " 'heights': tensor([[4.7190],\n",
       "         [4.7920],\n",
       "         [4.6720],\n",
       "         ...,\n",
       "         [3.8200],\n",
       "         [4.5440],\n",
       "         [3.7250]]),\n",
       " 'x': array([[2.9629974, 1.421    , 4.719    ],\n",
       "        [2.959999 , 1.3860002, 4.792    ],\n",
       "        [2.9629974, 1.3400002, 4.672    ],\n",
       "        ...,\n",
       "        [1.2990036, 1.4440002, 3.8199997],\n",
       "        [1.2850037, 1.3910003, 4.5439997],\n",
       "        [1.3040009, 1.4580002, 3.725    ]], shape=(3139, 3), dtype=float32)}"
      ]
     },
     "execution_count": 10,
     "metadata": {},
     "output_type": "execute_result"
    }
   ],
   "source": [
    "dataset[0]"
   ]
  },
  {
   "cell_type": "code",
   "execution_count": 11,
   "id": "8b688333",
   "metadata": {},
   "outputs": [],
   "source": [
    "model = build_model_from_cfg(cfg.model)\n",
    "model = model.to(torch.device(\"cuda:0\"))"
   ]
  },
  {
   "cell_type": "code",
   "execution_count": null,
   "id": "d5c500ba",
   "metadata": {},
   "outputs": [],
   "source": [
    "load_checkpoint(model, \"../pointnext-xl_ckpt_best.pth\")"
   ]
  },
  {
   "cell_type": "code",
   "execution_count": null,
   "id": "a7b56a11",
   "metadata": {},
   "outputs": [],
   "source": [
    "model.state_dict()"
   ]
  },
  {
   "cell_type": "code",
   "execution_count": null,
   "id": "50ab73bd",
   "metadata": {},
   "outputs": [],
   "source": [
    "num_points = 16000\n",
    "\n",
    "pos = torch.randn(num_points, 3)\n",
    "\n",
    "x = None\n",
    "\n",
    "data = Data(pos=pos)\n",
    "\n",
    "batch = Batch.from_data_list([data, data])\n",
    "batch = batch.to(torch.device(\"cuda:0\"))"
   ]
  },
  {
   "cell_type": "code",
   "execution_count": null,
   "id": "1bb982a8",
   "metadata": {},
   "outputs": [],
   "source": [
    "keys = dataset[0].keys() if callable(dataset[0].keys) else data.keys"
   ]
  },
  {
   "cell_type": "code",
   "execution_count": null,
   "id": "5d3b88b8",
   "metadata": {},
   "outputs": [],
   "source": [
    "keys"
   ]
  },
  {
   "cell_type": "code",
   "execution_count": 12,
   "id": "09dc3387",
   "metadata": {},
   "outputs": [
    {
     "name": "stdout",
     "output_type": "stream",
     "text": [
      "../data/NIBIO_MLS/processed/nibio_mls_train_0.040_6m.pkl load successfully\n"
     ]
    }
   ],
   "source": [
    "cfg.distributed = False\n",
    "val_loader = build_dataloader_from_cfg(\n",
    "    1,\n",
    "    cfg.dataset,\n",
    "    cfg.dataloader,\n",
    "    datatransforms_cfg=cfg.datatransforms,\n",
    "    split=\"train\",\n",
    "    distributed=cfg.distributed,\n",
    ")"
   ]
  },
  {
   "cell_type": "code",
   "execution_count": 13,
   "id": "54a8105d",
   "metadata": {},
   "outputs": [
    {
     "name": "stdout",
     "output_type": "stream",
     "text": [
      "{'pos': array([[3.        , 2.7060003 , 2.4720001 ],\n",
      "       [3.        , 0.928     , 0.89299965],\n",
      "       [2.974     , 0.97800016, 0.32099962],\n",
      "       ...,\n",
      "       [1.293     , 4.3310003 , 2.5760002 ],\n",
      "       [1.306     , 4.335     , 1.73      ],\n",
      "       [1.304     , 4.337     , 1.685     ]],\n",
      "      shape=(12766, 3), dtype=float32), 'y': array([4, 2, 2, ..., 2, 2, 2], shape=(12766,))}{'pos': array([[6.        , 2.2339993 , 0.5419998 ],\n",
      "       [5.976     , 1.098999  , 0.18400002],\n",
      "       [5.972     , 1.1309996 , 0.02499962],\n",
      "       ...,\n",
      "       [1.284     , 1.3759995 , 1.8069992 ],\n",
      "       [1.311     , 1.3329992 , 1.868     ],\n",
      "       [1.31      , 1.9539995 , 0.01799965]],\n",
      "      shape=(4516, 3), dtype=float32), 'y': array([2, 2, 2, ..., 2, 2, 2], shape=(4516,))}\n",
      "{'pos': array([[5.972     , 4.6720004 , 2.6599998 ],\n",
      "       [5.987     , 4.3750005 , 5.4839993 ],\n",
      "       [5.975     , 5.967001  , 1.0869999 ],\n",
      "       ...,\n",
      "       [1.281     , 3.4570003 , 0.31599998],\n",
      "       [1.302     , 4.0850005 , 2.6089993 ],\n",
      "       [1.282     , 4.1010003 , 2.4389992 ]],\n",
      "      shape=(9250, 3), dtype=float32), 'y': array([2, 2, 2, ..., 2, 2, 2], shape=(9250,))}\n",
      "\n",
      "{'pos': array([[4.3759995 , 3.6669998 , 5.507     ],\n",
      "       [4.308998  , 3.6739998 , 5.5959997 ],\n",
      "       [4.302994  , 3.717     , 5.555     ],\n",
      "       ...,\n",
      "       [0.        , 0.6739998 , 5.665     ],\n",
      "       [0.01200104, 0.66100025, 5.795     ],\n",
      "       [0.01099396, 0.5670004 , 4.684     ]],\n",
      "      shape=(32703, 3), dtype=float32), 'y': array([2, 2, 2, ..., 4, 4, 4], shape=(32703,))}{'pos': array([[5.94      , 4.2560005 , 0.6760006 ],\n",
      "       [5.928     , 4.2539997 , 0.71100044],\n",
      "       [5.9249997 , 4.259     , 1.6289997 ],\n",
      "       ...,\n",
      "       [0.8540001 , 1.0500002 , 1.1340008 ],\n",
      "       [0.8570001 , 1.0430002 , 1.0699997 ],\n",
      "       [0.8740001 , 1.065     , 1.0009995 ]],\n",
      "      shape=(69205, 3), dtype=float32), 'y': array([2, 2, 2, ..., 2, 2, 2], shape=(69205,))}\n",
      "\n",
      "{'pos': array([[5.985     , 3.1359997 , 1.5500011 ],\n",
      "       [5.9769998 , 3.0009995 , 1.618     ],\n",
      "       [5.983     , 3.0729995 , 1.6280003 ],\n",
      "       ...,\n",
      "       [1.294     , 2.2489996 , 0.25600052],\n",
      "       [1.288     , 2.2429996 , 0.41799927],\n",
      "       [1.283     , 2.2389994 , 0.36499977]],\n",
      "      shape=(5364, 3), dtype=float32), 'y': array([2, 2, 2, ..., 2, 2, 2], shape=(5364,))}{'pos': array([[3.        , 1.8829994 , 1.724     ],\n",
      "       [3.        , 1.0279999 , 4.1400003 ],\n",
      "       [2.993     , 1.9839993 , 1.8670001 ],\n",
      "       ...,\n",
      "       [1.299     , 3.4069996 , 0.7709999 ],\n",
      "       [1.311     , 3.3819995 , 0.7950001 ],\n",
      "       [1.307     , 3.3809996 , 0.81900024]],\n",
      "      shape=(9160, 3), dtype=float32), 'y': array([2, 2, 2, ..., 2, 2, 2], shape=(9160,))}{'pos': array([[4.1289997 , 2.217     , 3.0430002 ],\n",
      "       [4.151     , 2.223     , 3.019     ],\n",
      "       [4.0889997 , 2.568     , 2.7770004 ],\n",
      "       ...,\n",
      "       [0.00800037, 1.508     , 5.3080006 ],\n",
      "       [0.02000046, 1.487     , 5.7720003 ],\n",
      "       [0.        , 1.488     , 0.6459999 ]],\n",
      "      shape=(12932, 3), dtype=float32), 'y': array([2, 2, 2, ..., 2, 2, 2], shape=(12932,))}\n",
      "\n",
      "\n",
      "{'pos': array([[3.        , 1.4369998 , 2.987     ],\n",
      "       [3.        , 1.23      , 2.905     ],\n",
      "       [3.        , 1.2599998 , 2.792     ],\n",
      "       ...,\n",
      "       [1.311     , 5.645     , 0.11800003],\n",
      "       [1.292     , 5.6719995 , 0.13800001],\n",
      "       [1.285     , 5.628999  , 0.13200003]],\n",
      "      shape=(31685, 3), dtype=float32), 'y': array([4, 4, 4, ..., 1, 1, 1], shape=(31685,))}\n"
     ]
    },
    {
     "data": {
      "text/plain": [
       "{'pos': tensor([[[-0.5166,  1.4814,  2.5766],\n",
       "          [ 1.1278,  1.7540,  0.9303],\n",
       "          [ 1.0922,  1.7178,  0.3414],\n",
       "          ...,\n",
       "          [-1.7778, -0.3406,  2.6815],\n",
       "          [-1.7814, -0.3256,  1.8128],\n",
       "          [-1.7815, -0.3236,  1.7574]]]),\n",
       " 'y': tensor([[4, 2, 2,  ..., 2, 2, 2]]),\n",
       " 'heights': tensor([[[2.4720],\n",
       "          [0.8930],\n",
       "          [0.3210],\n",
       "          ...,\n",
       "          [2.5760],\n",
       "          [1.7300],\n",
       "          [1.6850]]]),\n",
       " 'x': tensor([[[-0.5166,  1.4814,  2.5766],\n",
       "          [ 1.1278,  1.7540,  0.9303],\n",
       "          [ 1.0922,  1.7178,  0.3414],\n",
       "          ...,\n",
       "          [-1.7778, -0.3406,  2.6815],\n",
       "          [-1.7814, -0.3256,  1.8128],\n",
       "          [-1.7815, -0.3236,  1.7574]]])}"
      ]
     },
     "execution_count": 13,
     "metadata": {},
     "output_type": "execute_result"
    }
   ],
   "source": [
    "test = next(iter(val_loader))\n",
    "test"
   ]
  },
  {
   "cell_type": "code",
   "execution_count": 18,
   "id": "cba0eb2d",
   "metadata": {},
   "outputs": [],
   "source": [
    "test[\"x\"] = get_features_by_keys(test, keys='x')"
   ]
  },
  {
   "cell_type": "code",
   "execution_count": 20,
   "id": "aa2d1029",
   "metadata": {},
   "outputs": [
    {
     "data": {
      "text/plain": [
       "torch.Size([1, 3, 12766])"
      ]
     },
     "execution_count": 20,
     "metadata": {},
     "output_type": "execute_result"
    }
   ],
   "source": [
    "test['x'].shape"
   ]
  },
  {
   "cell_type": "code",
   "execution_count": 21,
   "id": "a99173a2",
   "metadata": {},
   "outputs": [],
   "source": [
    "test = {k: v.to(\"cuda\") for k, v in test.items()}"
   ]
  },
  {
   "cell_type": "code",
   "execution_count": 22,
   "id": "85329db3",
   "metadata": {},
   "outputs": [
    {
     "data": {
      "text/plain": [
       "torch.Size([1, 3, 12766])"
      ]
     },
     "execution_count": 22,
     "metadata": {},
     "output_type": "execute_result"
    }
   ],
   "source": [
    "test[\"x\"].shape"
   ]
  },
  {
   "cell_type": "code",
   "execution_count": 23,
   "id": "523bb0a1",
   "metadata": {},
   "outputs": [],
   "source": [
    "model = model.to(\"cuda\")"
   ]
  },
  {
   "cell_type": "code",
   "execution_count": 25,
   "id": "0b9c926a",
   "metadata": {},
   "outputs": [
    {
     "data": {
      "text/plain": [
       "torch.Size([1, 13, 12766])"
      ]
     },
     "execution_count": 25,
     "metadata": {},
     "output_type": "execute_result"
    }
   ],
   "source": [
    "res = model(test)\n",
    "res.shape"
   ]
  },
  {
   "cell_type": "code",
   "execution_count": null,
   "id": "024c21ee",
   "metadata": {},
   "outputs": [],
   "source": [
    "label = torch.argmax(res, dim=1)\n",
    "label.shape"
   ]
  },
  {
   "cell_type": "code",
   "execution_count": null,
   "id": "3c16da79",
   "metadata": {},
   "outputs": [],
   "source": [
    "test[\"pos\"].shape"
   ]
  },
  {
   "cell_type": "code",
   "execution_count": null,
   "id": "1080a00d",
   "metadata": {},
   "outputs": [],
   "source": [
    "import matplotlib.pyplot as plt\n",
    "\n",
    "ax = plt.figure().add_subplot(projection=\"3d\")\n",
    "\n",
    "ax.scatter(test[\"pos\"][0, :, 0].cpu(), test[\"pos\"][0, :, 1].cpu(), test[\"pos\"][0, :, 2].cpu(), c = label[0].cpu(), s=0.1)"
   ]
  },
  {
   "cell_type": "code",
   "execution_count": null,
   "id": "a23b04f4",
   "metadata": {},
   "outputs": [],
   "source": [
    "batch"
   ]
  }
 ],
 "metadata": {
  "kernelspec": {
   "display_name": ".venv",
   "language": "python",
   "name": "python3"
  },
  "language_info": {
   "codemirror_mode": {
    "name": "ipython",
    "version": 3
   },
   "file_extension": ".py",
   "mimetype": "text/x-python",
   "name": "python",
   "nbconvert_exporter": "python",
   "pygments_lexer": "ipython3",
   "version": "3.12.3"
  }
 },
 "nbformat": 4,
 "nbformat_minor": 5
}
