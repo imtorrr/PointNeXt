{
 "cells": [
  {
   "cell_type": "code",
   "execution_count": null,
   "id": "e92e0dd6",
   "metadata": {},
   "outputs": [],
   "source": [
    "import sys\n",
    "\n",
    "sys.path.append(\"..\")\n",
    "\n",
    "import warnings\n",
    "\n",
    "warnings.simplefilter(action='ignore', category=FutureWarning)\n",
    "\n",
    "from openpoints.utils import EasyConfig, set_random_seed, dist_utils\n",
    "from openpoints.transforms import build_transforms_from_cfg\n",
    "from openpoints.optim import build_optimizer_from_cfg\n",
    "from openpoints.scheduler import build_scheduler_from_cfg\n",
    "from openpoints.loss import build_criterion_from_cfg\n",
    "from openpoints.models import build_model_from_cfg\n",
    "\n",
    "import torch\n",
    "from torch_geometric.data import Data, Batch\n",
    "import os\n",
    "import glob"
   ]
  },
  {
   "cell_type": "code",
   "execution_count": null,
   "id": "cf26d285",
   "metadata": {},
   "outputs": [],
   "source": [
    "from torch_scatter import scatter\n",
    "from openpoints.utils import set_random_seed, save_checkpoint, load_checkpoint, resume_checkpoint, setup_logger_dist, \\\n",
    "    cal_model_parm_nums, Wandb, generate_exp_directory, resume_exp_directory, EasyConfig, dist_utils, find_free_port, load_checkpoint_inv\n",
    "from openpoints.utils import AverageMeter, ConfusionMatrix, get_mious\n",
    "from openpoints.dataset import build_dataloader_from_cfg, get_features_by_keys, get_class_weights\n",
    "from openpoints.dataset.data_util import voxelize\n",
    "from openpoints.dataset.semantic_kitti.semantickitti import load_label_kitti, load_pc_kitti, remap_lut_read, remap_lut_write, get_semantickitti_file_list\n",
    "from openpoints.transforms import build_transforms_from_cfg\n",
    "from openpoints.optim import build_optimizer_from_cfg\n",
    "from openpoints.scheduler import build_scheduler_from_cfg\n",
    "from openpoints.loss import build_criterion_from_cfg\n",
    "from openpoints.models import build_model_from_cfg"
   ]
  },
  {
   "cell_type": "code",
   "execution_count": null,
   "id": "82816dcb",
   "metadata": {},
   "outputs": [],
   "source": [
    "cfg = EasyConfig()\n",
    "cfg.load(\"../cfgs/s3dis/pointnextpyg-xl.yaml\", recursive=True)\n",
    "cfg.dataset.common.data_root = os.path.join(\"../\", cfg.dataset.common.data_root)"
   ]
  },
  {
   "cell_type": "code",
   "execution_count": null,
   "id": "8b688333",
   "metadata": {},
   "outputs": [],
   "source": [
    "model = build_model_from_cfg(cfg.model)\n",
    "model = model.to(torch.device(\"cuda:0\"))"
   ]
  },
  {
   "cell_type": "code",
   "execution_count": null,
   "id": "50ab73bd",
   "metadata": {},
   "outputs": [],
   "source": [
    "num_points = 16000\n",
    "\n",
    "pos = torch.randn(num_points, 3)\n",
    "\n",
    "x = None\n",
    "\n",
    "data = Data(pos=pos, x=pos)\n",
    "\n",
    "batch = Batch.from_data_list([data, data])\n",
    "batch = batch.to(torch.device(\"cuda:0\"))"
   ]
  },
  {
   "cell_type": "code",
   "execution_count": null,
   "id": "09dc3387",
   "metadata": {},
   "outputs": [],
   "source": [
    "cfg.distributed = False"
   ]
  },
  {
   "cell_type": "code",
   "execution_count": null,
   "id": "e16d95da",
   "metadata": {},
   "outputs": [],
   "source": []
  },
  {
   "cell_type": "code",
   "execution_count": null,
   "id": "19b5ea57",
   "metadata": {},
   "outputs": [],
   "source": [
    "cfg.dataset.return_geometric_data = False"
   ]
  },
  {
   "cell_type": "code",
   "execution_count": null,
   "id": "fefac57c",
   "metadata": {},
   "outputs": [],
   "source": [
    "val_loader = build_dataloader_from_cfg(cfg.get('val_batch_size', cfg.batch_size),\n",
    "                                           cfg.dataset,\n",
    "                                           cfg.dataloader,\n",
    "                                           datatransforms_cfg=cfg.datatransforms,\n",
    "                                           split='val',\n",
    "                                           distributed=cfg.distributed\n",
    "                                           )"
   ]
  },
  {
   "cell_type": "code",
   "execution_count": null,
   "id": "523bb0a1",
   "metadata": {},
   "outputs": [],
   "source": [
    "data"
   ]
  },
  {
   "cell_type": "code",
   "execution_count": null,
   "id": "f90308b1",
   "metadata": {},
   "outputs": [],
   "source": [
    "from openpoints.dataset.build import build_dataset_from_cfg\n",
    "\n",
    "dataset = build_dataset_from_cfg(cfg.dataset.common)\n",
    "dataset[2]"
   ]
  },
  {
   "cell_type": "code",
   "execution_count": null,
   "id": "e63d40c4",
   "metadata": {},
   "outputs": [],
   "source": [
    "data = next(iter(val_loader))\n",
    "data"
   ]
  },
  {
   "cell_type": "code",
   "execution_count": null,
   "id": "7af0f969",
   "metadata": {},
   "outputs": [],
   "source": [
    "cfg.feature_keys"
   ]
  },
  {
   "cell_type": "code",
   "execution_count": null,
   "id": "e8b1a373",
   "metadata": {},
   "outputs": [],
   "source": [
    "data.heights.shape"
   ]
  },
  {
   "cell_type": "code",
   "execution_count": null,
   "id": "2179bfc4",
   "metadata": {},
   "outputs": [],
   "source": [
    "data.x.shape"
   ]
  },
  {
   "cell_type": "code",
   "execution_count": null,
   "id": "69c29d95",
   "metadata": {},
   "outputs": [],
   "source": [
    "model(data.to('cuda')).shape"
   ]
  },
  {
   "cell_type": "code",
   "execution_count": null,
   "id": "c6f9dab5",
   "metadata": {},
   "outputs": [],
   "source": [
    "from openpoints.dataset.data_util import get_features_by_keys\n",
    "\n",
    "x = get_features_by_keys(data, cfg.feature_keys)"
   ]
  },
  {
   "cell_type": "code",
   "execution_count": null,
   "id": "e900ae67",
   "metadata": {},
   "outputs": [],
   "source": [
    "import matplotlib.pyplot as plt\n",
    "\n",
    "fig = plt.figure(figsize=(10, 10))\n",
    "ax = fig.add_subplot(111, projection='3d')\n",
    "ax.scatter(tmp[\"pos\"][0][:, 0], tmp[\"pos\"][0][:, 1], tmp[\"pos\"][0][:, 2], s=1)\n",
    "plt.show()"
   ]
  },
  {
   "cell_type": "code",
   "execution_count": null,
   "id": "9908176d",
   "metadata": {},
   "outputs": [],
   "source": [
    "tmp[\"x\"]"
   ]
  },
  {
   "cell_type": "code",
   "execution_count": null,
   "id": "c7f9b81b",
   "metadata": {},
   "outputs": [],
   "source": [
    "model(batch).shape"
   ]
  }
 ],
 "metadata": {
  "kernelspec": {
   "display_name": ".venv",
   "language": "python",
   "name": "python3"
  },
  "language_info": {
   "codemirror_mode": {
    "name": "ipython",
    "version": 3
   },
   "file_extension": ".py",
   "mimetype": "text/x-python",
   "name": "python",
   "nbconvert_exporter": "python",
   "pygments_lexer": "ipython3",
   "version": "3.12.3"
  }
 },
 "nbformat": 4,
 "nbformat_minor": 5
}
